{
 "cells": [
  {
   "cell_type": "markdown",
   "id": "4d3ac601-f849-4d57-b739-2a98086add50",
   "metadata": {},
   "source": [
    "программа, вычисляющая длину третьей стороны треугольника по двум другим"
   ]
  },
  {
   "cell_type": "code",
   "execution_count": 1,
   "id": "77d92f40-200b-4c72-8ea8-cdd779317eb7",
   "metadata": {},
   "outputs": [],
   "source": [
    "from math import sqrt, cos, radians"
   ]
  },
  {
   "cell_type": "code",
   "execution_count": 17,
   "id": "574ea7b8-fb59-4121-9609-c80d1cb55730",
   "metadata": {},
   "outputs": [
    {
     "name": "stdin",
     "output_type": "stream",
     "text": [
      "Первая сторона  3\n",
      "Вторая сторона  4\n",
      "Угол между ними  90\n"
     ]
    }
   ],
   "source": [
    "a = int(input(\"Первая сторона \"))\n",
    "b = int(input(\"Вторая сторона \")) #ввод данных\n",
    "c = int(input(\"Угол между ними \"))"
   ]
  },
  {
   "cell_type": "code",
   "execution_count": 18,
   "id": "b4dc4c9d-59ee-4c9f-aabf-2e299c346a35",
   "metadata": {},
   "outputs": [
    {
     "name": "stdout",
     "output_type": "stream",
     "text": [
      "Третья сторона  5.0\n"
     ]
    }
   ],
   "source": [
    "if 0 < c < 180: #проверка, реален ли введенный пользователем угол\n",
    "    d = sqrt(a**2 + b**2 - 2*a*b*cos(radians((c)))) #применение формулы и дальнейший вывод\n",
    "    print (\"Третья сторона \", d)\n",
    "else:\n",
    "    print(\"Невозможный угол\")"
   ]
  },
  {
   "cell_type": "code",
   "execution_count": null,
   "id": "ee6a6749-26ee-4ebd-ad2c-bca657dc90cc",
   "metadata": {},
   "outputs": [],
   "source": []
  }
 ],
 "metadata": {
  "kernelspec": {
   "display_name": "Python 3 (ipykernel)",
   "language": "python",
   "name": "python3"
  },
  "language_info": {
   "codemirror_mode": {
    "name": "ipython",
    "version": 3
   },
   "file_extension": ".py",
   "mimetype": "text/x-python",
   "name": "python",
   "nbconvert_exporter": "python",
   "pygments_lexer": "ipython3",
   "version": "3.12.6"
  }
 },
 "nbformat": 4,
 "nbformat_minor": 5
}
