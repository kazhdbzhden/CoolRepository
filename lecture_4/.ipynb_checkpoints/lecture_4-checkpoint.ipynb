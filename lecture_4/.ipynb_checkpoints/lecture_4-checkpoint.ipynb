{
 "cells": [
  {
   "cell_type": "raw",
   "id": "1db696ea-3ae7-4e3a-9a26-e3e9193eb838",
   "metadata": {},
   "source": [
    "программа, получающая на вход число и находящая все простые числа от 2 до полученного числа"
   ]
  },
  {
   "cell_type": "code",
   "execution_count": 1,
   "id": "1857d828-99ad-4853-b24c-0d86a7621c6f",
   "metadata": {},
   "outputs": [],
   "source": [
    "import re\n",
    "import string"
   ]
  },
  {
   "cell_type": "code",
   "execution_count": 2,
   "id": "4edd1400-15cb-4766-afa1-b68f213b8f72",
   "metadata": {},
   "outputs": [
    {
     "name": "stdin",
     "output_type": "stream",
     "text": [
      "Введите число больше 2 115\n"
     ]
    }
   ],
   "source": [
    "a = input(\"Введите число больше 2\") #ввод данных\n",
    "\n",
    "while not re.fullmatch(r'\\d+', a) or int(a) <= 2:      #проверка данных (введено ли число\n",
    "    if string.digits == True and int(a) >= 2:          #и подходит ли оно под критерии)\n",
    "        pass                                           #если нет - повторный ввод\n",
    "    else:\n",
    "        print(\"неподходящее значение\")\n",
    "        a = input(\"Введите число больше 2\")\n",
    "    "
   ]
  },
  {
   "cell_type": "code",
   "execution_count": 4,
   "id": "dfe2369c-2342-4ed9-bf70-57f1daff8ce3",
   "metadata": {},
   "outputs": [
    {
     "name": "stdout",
     "output_type": "stream",
     "text": [
      "2\n",
      "3\n",
      "5\n",
      "7\n",
      "11\n",
      "13\n",
      "17\n",
      "19\n",
      "23\n",
      "29\n",
      "31\n",
      "37\n",
      "41\n",
      "43\n",
      "47\n",
      "53\n",
      "59\n",
      "61\n",
      "67\n",
      "71\n",
      "73\n",
      "79\n",
      "83\n",
      "89\n",
      "97\n",
      "101\n",
      "103\n",
      "107\n",
      "109\n",
      "113\n"
     ]
    }
   ],
   "source": [
    "nums = list(range(2, int(a)+1)) #создаем лист чисел от 2 до введенного\n",
    "mt_nums = [] #пустой лист, в который будут записываться не простые числа\n",
    "\n",
    "\n",
    "for i in nums:                 #цикл в цикле:\n",
    "    n = i                      #первый перебирает числа \n",
    "    for p in nums:             #второй сравнивает все числа с текущим \n",
    "        if p > n and p%n == 0: #и если какое-то больше и делится без остатка, записывает его в mt_nums\n",
    "            mt_nums.append(p)  #наверное, можно сделать в одном цикле, но я не понял как\n",
    "\n",
    "mt_nums = list(set(mt_nums))   #set не допускает дубликатов, так мы их удаляем и снова делаем лист\n",
    "\n",
    "for i in mt_nums:              #удаляем из основного листа все числа, которые записались в специальный лист и выводим\n",
    "    nums.remove(i)\n",
    "print(*nums, sep = '\\n')"
   ]
  }
 ],
 "metadata": {
  "kernelspec": {
   "display_name": "Python 3 (ipykernel)",
   "language": "python",
   "name": "python3"
  },
  "language_info": {
   "codemirror_mode": {
    "name": "ipython",
    "version": 3
   },
   "file_extension": ".py",
   "mimetype": "text/x-python",
   "name": "python",
   "nbconvert_exporter": "python",
   "pygments_lexer": "ipython3",
   "version": "3.12.6"
  }
 },
 "nbformat": 4,
 "nbformat_minor": 5
}
