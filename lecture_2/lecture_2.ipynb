{
 "cells": [
  {
   "cell_type": "markdown",
   "id": "78767bc9-7afe-482e-9540-e43c5f86c058",
   "metadata": {},
   "source": [
    "программа, получающая на вход число от 0 до 99 и выдающая его прописью"
   ]
  },
  {
   "cell_type": "code",
   "execution_count": 86,
   "id": "f961a604-973b-4217-a21a-31f8c111a56f",
   "metadata": {},
   "outputs": [],
   "source": [
    "import re"
   ]
  },
  {
   "cell_type": "code",
   "execution_count": 87,
   "id": "3f5a7ca7-05bb-4282-9b82-f279a13fa14b",
   "metadata": {},
   "outputs": [
    {
     "name": "stdin",
     "output_type": "stream",
     "text": [
      "Введите число от 0 до 99 89\n"
     ]
    }
   ],
   "source": [
    "a = input(\"Введите число от 0 до 99\") #ввод данных\n",
    "\n",
    "while has_numbers(a) == False or len(a) < 1 or len(a) > 2: #проверка данных (введено ли число\n",
    "    if has_numbers(a) == True and 0 < len(a) < 3:          #и подходит ли оно под критерии)\n",
    "        print(\"num\")                                       #если нет - повторный ввод\n",
    "    else:\n",
    "        print(\"неподходящее значение\")\n",
    "        a = input(\"Введите число от 0 до 99\")"
   ]
  },
  {
   "cell_type": "code",
   "execution_count": 88,
   "id": "058e9725-638a-49bf-9cfb-541d1e2d6706",
   "metadata": {},
   "outputs": [],
   "source": [
    "if len(a) == 1:     #условия для вывода однозначных чисел\n",
    "    if int(a) == 0:\n",
    "        print(\"ноль\")\n",
    "    elif int(a) == 1:\n",
    "        print(\"один\")\n",
    "    elif int(a) == 2:\n",
    "        print(\"два\")\n",
    "    elif int(a) == 3:\n",
    "        print(\"три\")\n",
    "    elif int(a) == 4:\n",
    "        print(\"четыре\")\n",
    "    elif int(a) == 5:\n",
    "        print(\"пять\")\n",
    "    elif int(a) == 6:\n",
    "        print(\"шесть\")\n",
    "    elif int(a) == 7:\n",
    "        print(\"семь\")\n",
    "    elif int(a) == 8:\n",
    "        print(\"восемь\")\n",
    "    elif int(a) == 9:\n",
    "        print(\"девять\")\n",
    "\n",
    "\n",
    "if len(a) == 2 and int(a[0]) == 1: #условие для вывода чисел с уникальными называниями\n",
    "    if int(a[1]) == 0:\n",
    "        print(\"десять\")\n",
    "    elif int(a[1]) == 1:\n",
    "        print(\"одиннадцать\")\n",
    "    elif int(a[1]) == 2:\n",
    "        print(\"двенадцать\")\n",
    "    elif int(a[1]) == 3:\n",
    "        print(\"тринадцать\")\n",
    "    elif int(a[1]) == 4:\n",
    "        print(\"четырнадцать\")\n",
    "    elif int(a[1]) == 5:\n",
    "        print(\"пятнадцать\")\n",
    "    elif int(a[1]) == 6:\n",
    "        print(\"шестнадцать\")\n",
    "    elif int(a[1]) == 7:\n",
    "        print(\"семнадцать\")\n",
    "    elif int(a[1]) == 8:\n",
    "        print(\"восемнадцать\")\n",
    "    elif int(a[1]) == 9:\n",
    "        print(\"девятнадцать\")\n",
    "\n",
    "b = \"\" #пустая переменная для десятков\n",
    "c = \"\" #пустая переменная для единиц\n",
    "\n",
    "if len(a) == 2 and int(a[0]) == 2: #тут есть проверка на двузначность\n",
    "    b = \"двадцать \"\n",
    "elif len(a) == 2 and int(a[0]) == 3:\n",
    "    b = \"тридцать \"\n",
    "elif len(a) == 2 and int(a[0]) == 4:\n",
    "    b = \"сорок \"\n",
    "elif len(a) == 2 and int(a[0]) == 5:\n",
    "    b = \"пятьдесят \"\n",
    "elif len(a) == 2 and int(a[0]) == 6:\n",
    "    b = \"шестьдесят \"\n",
    "elif len(a) == 2 and int(a[0]) == 7:\n",
    "    b = \"семьдесят \"\n",
    "elif len(a) == 2 and int(a[0]) == 8:\n",
    "    b = \"восемьдесят \"\n",
    "elif len(a) == 2 and int(a[0]) == 9:\n",
    "    b = \"девяносто \"\n",
    "\n",
    "if len(a) == 2 and int(a[1]) == 0: #и тут есть проверка на двузначность\n",
    "    c = \"\"\n",
    "elif len(a) == 2 and int(a[1]) == 1:\n",
    "    c = \"один\"\n",
    "elif len(a) == 2 and int(a[1]) == 2:\n",
    "    c = \"два\"\n",
    "elif len(a) == 2 and int(a[1]) == 3:\n",
    "    c = \"три\"\n",
    "elif len(a) == 2 and int(a[1]) == 4:\n",
    "    c = \"четыре\"\n",
    "elif len(a) == 2 and int(a[1]) == 5:\n",
    "    c = \"пять\"\n",
    "elif len(a) == 2 and int(a[1]) == 6:\n",
    "    c = \"шесть\"\n",
    "elif len(a) == 2 and int(a[1]) == 7:\n",
    "    c = \"семь\"\n",
    "elif len(a) == 2 and int(a[1]) == 8:\n",
    "    c = \"восемь\"\n",
    "elif len(a) == 2 and int(a[1]) == 9:\n",
    "    c = \"девять\""
   ]
  },
  {
   "cell_type": "code",
   "execution_count": 89,
   "id": "2d5f33d2-a170-44b9-ab22-f896890058e8",
   "metadata": {},
   "outputs": [
    {
     "name": "stdout",
     "output_type": "stream",
     "text": [
      "восемьдесят девять\n"
     ]
    }
   ],
   "source": [
    "num = b + c #складываем десятки и единицы\n",
    "print(num)  #если было введено однозначное число, оно выведется раньше, а эта команда не приведет к ошибке, поскольку \n",
    "            #выводится по сути пустое значение, ведь b и c становятся непустыми только, если введено двузначное число len(a) == 2"
   ]
  }
 ],
 "metadata": {
  "kernelspec": {
   "display_name": "Python 3 (ipykernel)",
   "language": "python",
   "name": "python3"
  },
  "language_info": {
   "codemirror_mode": {
    "name": "ipython",
    "version": 3
   },
   "file_extension": ".py",
   "mimetype": "text/x-python",
   "name": "python",
   "nbconvert_exporter": "python",
   "pygments_lexer": "ipython3",
   "version": "3.12.6"
  }
 },
 "nbformat": 4,
 "nbformat_minor": 5
}
