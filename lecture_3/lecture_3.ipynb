{
 "cells": [
  {
   "cell_type": "raw",
   "id": "41d00b67-f0ae-41fc-b8ee-520feea2c3b0",
   "metadata": {},
   "source": [
    "программа, получающая на вход температуру в цельсиях и выводящая в фаренгейтах (или наоборот) \n",
    "с проверкой ввода"
   ]
  },
  {
   "cell_type": "code",
   "execution_count": 6,
   "id": "41c59b91-e156-49ce-ba74-986beecc5e4f",
   "metadata": {},
   "outputs": [],
   "source": [
    "import re"
   ]
  },
  {
   "cell_type": "code",
   "execution_count": 7,
   "id": "8e904528-3556-4ac1-8987-751e39e69ccb",
   "metadata": {},
   "outputs": [
    {
     "name": "stdin",
     "output_type": "stream",
     "text": [
      "Введите температуру в градусах цельсия или фаренгейта по формату 0C или 0F 7463F\n"
     ]
    }
   ],
   "source": [
    "tmp = input(\"Введите температуру в градусах цельсия или фаренгейта по формату 0C или 0F\") #ввод данных\n",
    "\n",
    "tmp_nums = tmp[0:-1]  #создание строки без буквы, обозначающей шкалу\n",
    "\n",
    "while tmp[-1] not in [\"C\", \"F\"] or not re.fullmatch(r'\\d+', tmp_nums): #проверка, обозначает ли последний символ шкалу и являются ли остальные числом\n",
    "    tmp = input(\"Введите температуру в градусах цельсия или фаренгейта по формату 0C или 0F\")\n",
    "    tmp_nums = tmp[0:-1]"
   ]
  },
  {
   "cell_type": "code",
   "execution_count": 8,
   "id": "b2a08dad-09f3-482b-8b7c-7ec088113ab5",
   "metadata": {},
   "outputs": [
    {
     "name": "stdout",
     "output_type": "stream",
     "text": [
      "4128.333333333333C\n"
     ]
    }
   ],
   "source": [
    "if tmp[-1] == \"C\": #если было введено число по цельсию\n",
    "    res = ((int(tmp_nums)*1.8) + 32) #формула\n",
    "    print(res, \"F\", sep = '') #sep чтобы выводилось без пробела\n",
    "else:\n",
    "    res = (int(tmp_nums)-32)*5/9 #аналогично\n",
    "    print(res, \"C\", sep = '')\n",
    "    \n",
    "\n"
   ]
  },
  {
   "cell_type": "code",
   "execution_count": null,
   "id": "d7de520f-a241-4f83-84f2-251e43cd85ed",
   "metadata": {},
   "outputs": [],
   "source": []
  }
 ],
 "metadata": {
  "kernelspec": {
   "display_name": "Python 3 (ipykernel)",
   "language": "python",
   "name": "python3"
  },
  "language_info": {
   "codemirror_mode": {
    "name": "ipython",
    "version": 3
   },
   "file_extension": ".py",
   "mimetype": "text/x-python",
   "name": "python",
   "nbconvert_exporter": "python",
   "pygments_lexer": "ipython3",
   "version": "3.12.6"
  }
 },
 "nbformat": 4,
 "nbformat_minor": 5
}
